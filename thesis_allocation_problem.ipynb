{
 "cells": [
  {
   "cell_type": "markdown",
   "metadata": {},
   "source": [
    "# Thesis Allocation Problem\n",
    "\n",
    "This notebook containts a basic and more complex implementation of the thesis allocation problem: allocating thesis topics to students based on factors such as preference and limits to the number of students per lecturer.\n",
    "\n",
    "## 1. A Basic Implementation\n",
    "### Details\n",
    "- There are $n$ students and $m$ topics. $m \\geq n$.\n",
    "- There are $k$ topic preferences chosen randomly and ranked according to index in array (e.g. index 0 corresponds with 1st choice)\n",
    "- A student must only have 1 topic\n",
    "- A topic must have 1 or no students\n",
    "- Cost is assigned to preferences as follows:\n",
    "$$P = [p_1, p_2, ..., p_k]$$ \n",
    "$$P_{cost} = [0, 1, ..., k-1]$$\n",
    "Any topic allocation not in the student's preferences receives $cost=k$"
   ]
  },
  {
   "cell_type": "code",
   "execution_count": 27,
   "metadata": {},
   "outputs": [],
   "source": [
    "import random\n",
    "import numpy as np\n",
    "import matplotlib.pyplot as plt"
   ]
  },
  {
   "cell_type": "code",
   "execution_count": 28,
   "metadata": {},
   "outputs": [],
   "source": [
    "num_students = 100 # n\n",
    "num_topics = 120 # m\n",
    "num_preferences = 6 # k\n",
    "\n",
    "students = range(num_students)\n",
    "topics = range(num_topics)\n",
    "\n",
    "# Create preferences per student by randomly samply k out of m topics\n",
    "preferences = np.array([random.sample(topics,k=num_preferences) for i in students])"
   ]
  },
  {
   "cell_type": "markdown",
   "metadata": {},
   "source": [
    "In order to formulate the optimization problem, a preference-cost matrix was constructed. This matrix has a row for each student (n rows), and a column for each topic (m topics). Each topic is given a cost based on the student's preferences. \n",
    "\n",
    "For example, if there are 3 topics and a student has 2 preferences, topic 3 (first choice) and topic 1 (second choice), the matrix would look something like this:\n",
    "\n",
    "$$\n",
    "PrefCost=\\left[\\begin{array}{cc} \n",
    "1 & 2 & 0\n",
    "\\end{array}\\right]\n",
    "$$ \n",
    "\n",
    "So if the student was awarded topic 1, they would incur a cost of 1, etc."
   ]
  },
  {
   "cell_type": "code",
   "execution_count": 29,
   "metadata": {},
   "outputs": [],
   "source": [
    "preferences_cost = np.full((len(students),len(topics)), num_preferences)\n",
    "\n",
    "for i in students:\n",
    "    for k in range(num_preferences):\n",
    "        preferences_cost[i,preferences[i,k]] = k\n",
    "        \n",
    "preferences_cost = preferences_cost.tolist()"
   ]
  },
  {
   "cell_type": "markdown",
   "metadata": {},
   "source": [
    "Now, the optimization problem can be formulated."
   ]
  },
  {
   "cell_type": "code",
   "execution_count": 30,
   "metadata": {},
   "outputs": [],
   "source": [
    "from mip import Model, xsum, minimize, BINARY, OptimizationStatus\n",
    "\n",
    "m = Model()\n",
    "\n",
    "x = [[m.add_var('x({}{})'.format(i,j), var_type=BINARY) \n",
    "     for i in topics] for j in students]\n",
    "\n",
    "# CONSTRAINTS\n",
    "# One topic per student\n",
    "for i in students:\n",
    "    m += xsum(x[i][j] for j in topics) == 1\n",
    "    \n",
    "# One student per topic\n",
    "for j in topics:\n",
    "    m += xsum(x[i][j] for i in students) <= 1\n",
    "    \n",
    "# OBJECTIVE FUNCTION\n",
    "# Minimize the cost of preferences of topics\n",
    "m.objective = minimize(xsum(preferences_cost[j][i]*x[j][i] for i in topics for j in students))"
   ]
  },
  {
   "cell_type": "code",
   "execution_count": 31,
   "metadata": {},
   "outputs": [
    {
     "name": "stdout",
     "output_type": "stream",
     "text": [
      "optimal solution cost 58.0 found\n"
     ]
    }
   ],
   "source": [
    "status = m.optimize()\n",
    "\n",
    "if status == OptimizationStatus.OPTIMAL:\n",
    "    print('optimal solution cost {} found'.format(m.objective_value))\n",
    "elif status == OptimizationStatus.FEASIBLE:\n",
    "    print('sol.cost {} found, best possible: {}'.format(m.objective_value, m.objective_bound))\n",
    "elif status == OptimizationStatus.NO_SOLUTION_FOUND:\n",
    "    print('no feasible solution found, lower bound is: {}'.format(m.objective_bound))\n",
    "elif status == OptimizationStatus.INFEASIBLE:\n",
    "    print('Problem is infeasible')"
   ]
  },
  {
   "cell_type": "markdown",
   "metadata": {},
   "source": [
    "If an optimal solution was found, we can now look at the \"printed histogram\" of the results."
   ]
  },
  {
   "cell_type": "code",
   "execution_count": 32,
   "metadata": {},
   "outputs": [
    {
     "name": "stdout",
     "output_type": "stream",
     "text": [
      "Out of 100 students...\n",
      "56.0% students get preference 0\n",
      "31.0% students get preference 1\n",
      "12.0% students get preference 2\n",
      "1.0% students get preference 3\n",
      "0.0% students get preference 4\n",
      "0.0% students get preference 5\n",
      "0.0% students were not allocated a topic from their preferences\n"
     ]
    }
   ],
   "source": [
    "results = np.zeros((num_students,num_topics),dtype=np.uint8)\n",
    "if status == OptimizationStatus.OPTIMAL or status == OptimizationStatus.FEASIBLE:\n",
    "    for i in students:\n",
    "        for j in topics:\n",
    "            results[i,j] = x[i][j].x\n",
    "\n",
    "summary_count = np.zeros((num_preferences+1))\n",
    "for i in students:\n",
    "    topic_choice = str(results[i].argmax())\n",
    "    if np.where(preferences[i] == results[i].argmax())[0].shape[0]:\n",
    "        preference_rank = str(np.where(preferences[i] == results[i].argmax())[0][0])\n",
    "        summary_count[np.where(preferences[i] == results[i].argmax())[0][0]] +=1\n",
    "    else:\n",
    "        preference_rank = \"OOB\"\n",
    "        summary_count[-1] +=1\n",
    "#     print(\"Student {} chose topic {} - preference {}\".format(str(i), topic_choice, preference_rank))\n",
    "\n",
    "perc_arr = []\n",
    "print(\"Out of {} students...\".format(num_students))\n",
    "for i in range(num_preferences+1):\n",
    "    perc = str(round(summary_count[i]/num_students*100,1))\n",
    "    if i == num_preferences:\n",
    "        print(\"{}% students were not allocated a topic from their preferences\".format(perc))\n",
    "    else:\n",
    "        print(\"{}% students get preference {}\".format(perc, i))\n",
    "    perc_arr.append(float(perc))"
   ]
  },
  {
   "cell_type": "code",
   "execution_count": 34,
   "metadata": {},
   "outputs": [
    {
     "data": {
      "image/png": "[encoded data removed]",
      "text/plain": [
       "<Figure size 432x288 with 1 Axes>"
      ]
     },
     "metadata": {
      "needs_background": "light"
     },
     "output_type": "display_data"
    }
   ],
   "source": [
    "x_labs = np.arange(num_preferences+1)\n",
    "plt.bar(x_labs[::-1], height=perc_arr[::-1])\n",
    "plt.xticks(x_labs, x_labs)\n",
    "plt.title(\"Histogram of Achieved Allocation Preferences\")\n",
    "plt.ylabel(\"Frequency\")\n",
    "plt.xlabel(\"Preferences\")\n",
    "plt.ylim((0,100))\n",
    "plt.show()"
   ]
  },
  {
   "cell_type": "markdown",
   "metadata": {},
   "source": [
    "---\n",
    "\n",
    "## 2. A More Complex Implementation\n",
    "### Details\n",
    "- There are $n$ students and $m$ topics. $m \\geq n$.\n",
    "- There are $k$ topic preferences chosen randomly and ranked according to index in array (e.g. index 0 corresponds with 1st choice)\n",
    "- Each lecturer has $i$ topics. \n",
    "- A lecturere may have no more than $h$ students.\n",
    "- A student must only have 1 topic\n",
    "- A topic must have 1 or no students\n",
    "- Cost is assigned to preferences as follows:\n",
    "$$P = [p_1, p_2, ..., p_k]$$ \n",
    "$$P_{cost} = [0, 1, ..., k-1]$$\n",
    "Any topic allocation not in the student's preferences receives $cost=k$"
   ]
  },
  {
   "cell_type": "code",
   "execution_count": 43,
   "metadata": {},
   "outputs": [],
   "source": [
    "import random\n",
    "import numpy as np\n",
    "\n",
    "num_students = 100 # n\n",
    "num_preferences = 6 # k\n",
    "topics_per_lecturer = 5 # i\n",
    "num_lecturers = 27\n",
    "num_topics = num_lecturers*topics_per_lecturer # m\n",
    "max_students_per_lecturer = 4 # h\n",
    "\n",
    "students = range(num_students)\n",
    "lecturers = range(num_lecturers)\n",
    "topics = range(num_topics)\n",
    "\n",
    "topics_list = np.linspace(0,num_topics-1,num_topics,dtype=np.uint32)\n",
    "\n",
    "preferences = np.array([random.sample(topics,k=num_preferences) for i in students])\n",
    "preferences_cost = np.full((len(students),len(topics)), num_preferences)\n",
    "\n",
    "for i in students:\n",
    "    for k in range(num_preferences):\n",
    "        preferences_cost[i,preferences[i,k]] = k\n",
    "        \n",
    "preferences_cost = preferences_cost.tolist()"
   ]
  },
  {
   "cell_type": "markdown",
   "metadata": {},
   "source": [
    "In order to add the lecturer limit to the problem, a mask was created for each lecturer describing which of the topics were theirs. \n",
    "\n",
    "For example, if there are 10 topics and the first 3 topics below to lecturer 1, the mask for lecturer 1 would look like this:\n",
    "\n",
    "$$\n",
    "mask_1=\\left[\\begin{array}{cc} \n",
    "1 & 1 & 1 & 0 & 0 & 0 & 0 & 0 & 0 & 0\n",
    "\\end{array}\\right]\n",
    "$$ \n"
   ]
  },
  {
   "cell_type": "code",
   "execution_count": 43,
   "metadata": {},
   "outputs": [],
   "source": [
    "lecturer_mask = np.zeros((num_lecturers,num_topics), dtype=np.uint32)\n",
    "for i in lecturers:\n",
    "    lecturer_mask[i,i*topics_per_lecturer:i*topics_per_lecturer+topics_per_lecturer] = 1"
   ]
  },
  {
   "cell_type": "markdown",
   "metadata": {},
   "source": [
    "Again, we can formulate the problem but this time with the added constraint on topics per lecturer."
   ]
  },
  {
   "cell_type": "code",
   "execution_count": 51,
   "metadata": {},
   "outputs": [],
   "source": [
    "from mip import Model, xsum, minimize, BINARY, OptimizationStatus\n",
    "\n",
    "m = Model()\n",
    "\n",
    "x = [[m.add_var('x({}{})'.format(i,j), var_type=BINARY) \n",
    "     for i in topics] for j in students]\n",
    "\n",
    "# CONSTRAINTS\n",
    "for i in students:\n",
    "    m += xsum(x[i][j] for j in topics) == 1\n",
    "    \n",
    "for j in topics:\n",
    "    m += xsum(x[i][j] for i in students) <= 1\n",
    "\n",
    "for l in lecturers:\n",
    "    mask = lecturer_mask[l]\n",
    "    m += xsum(x[i][j]*mask[j] for j in topics for i in students) <= max_students_per_lecturer\n",
    "    \n",
    "# OBJECTIVE FUNCTION\n",
    "# Minimize the cost of preferences of topics\n",
    "m.objective = minimize(xsum(preferences_cost[j][i]*x[j][i] for i in topics for j in students))"
   ]
  },
  {
   "cell_type": "code",
   "execution_count": 52,
   "metadata": {},
   "outputs": [
    {
     "name": "stdout",
     "output_type": "stream",
     "text": [
      "optimal solution cost 54.0 found\n"
     ]
    }
   ],
   "source": [
    "status = m.optimize()\n",
    "\n",
    "if status == OptimizationStatus.OPTIMAL:\n",
    "    print('optimal solution cost {} found'.format(m.objective_value))\n",
    "elif status == OptimizationStatus.FEASIBLE:\n",
    "    print('sol.cost {} found, best possible: {}'.format(m.objective_value, m.objective_bound))\n",
    "elif status == OptimizationStatus.NO_SOLUTION_FOUND:\n",
    "    print('no feasible solution found, lower bound is: {}'.format(m.objective_bound))\n",
    "elif status == OptimizationStatus.INFEASIBLE:\n",
    "    print('Problem is infeasible')"
   ]
  },
  {
   "cell_type": "code",
   "execution_count": 53,
   "metadata": {},
   "outputs": [],
   "source": [
    "results = np.zeros((num_students,num_topics),dtype=np.uint8)\n",
    "if status == OptimizationStatus.OPTIMAL or status == OptimizationStatus.FEASIBLE:\n",
    "    for i in students:\n",
    "        for j in topics:\n",
    "            results[i,j] = x[i][j].x\n",
    "\n",
    "summary_count = np.zeros((num_preferences+1))\n",
    "for i in students:\n",
    "    topic_choice = str(results[i].argmax())\n",
    "    if np.where(preferences[i] == results[i].argmax())[0].shape[0]:\n",
    "        preference_rank = str(np.where(preferences[i] == results[i].argmax())[0][0])\n",
    "        summary_count[np.where(preferences[i] == results[i].argmax())[0][0]] +=1\n",
    "    else:\n",
    "        preference_rank = \"OOB\"\n",
    "        summary_count[-1] +=1\n",
    "#     print(\"Student {} chose topic {} - preference {}\".format(str(i), topic_choice, preference_rank))"
   ]
  },
  {
   "cell_type": "code",
   "execution_count": 54,
   "metadata": {},
   "outputs": [
    {
     "name": "stdout",
     "output_type": "stream",
     "text": [
      "Out of 100 students...\n",
      "63.0% students get preference 0\n",
      "23.0% students get preference 1\n",
      "11.0% students get preference 2\n",
      "3.0% students get preference 3\n",
      "0.0% students get preference 4\n",
      "0.0% students get preference 5\n",
      "0.0% students were not allocated a topic from their preferences\n"
     ]
    }
   ],
   "source": [
    "print(\"Out of {} students...\".format(num_students))\n",
    "for i in range(num_preferences+1):\n",
    "    perc = str(round(summary_count[i]/num_students*100,1))\n",
    "    if i == num_preferences:\n",
    "        print(\"{}% students were not allocated a topic from their preferences\".format(perc))\n",
    "    else:\n",
    "        print(\"{}% students get preference {}\".format(perc, i))"
   ]
  },
  {
   "cell_type": "code",
   "execution_count": 55,
   "metadata": {},
   "outputs": [
    {
     "data": {
      "image/png": "[encoded data removed]",
      "text/plain": [
       "<Figure size 432x288 with 1 Axes>"
      ]
     },
     "metadata": {
      "needs_background": "light"
     },
     "output_type": "display_data"
    }
   ],
   "source": [
    "x_labs = np.arange(num_preferences+1)\n",
    "plt.bar(x_labs[::-1], height=perc_arr[::-1])\n",
    "plt.xticks(x_labs, x_labs)\n",
    "plt.title(\"Histogram of Achieved Allocation Preferences\")\n",
    "plt.ylabel(\"Frequency\")\n",
    "plt.xlabel(\"Preferences\")\n",
    "plt.ylim((0,100))\n",
    "plt.show()"
   ]
  },
  {
   "cell_type": "code",
   "execution_count": 58,
   "metadata": {},
   "outputs": [
    {
     "name": "stdout",
     "output_type": "stream",
     "text": [
      "Out of 27 lecturers...\n",
      "0.0% lecturers were allocated 0 students\n",
      "0.0% lecturers were allocated 1 students\n",
      "3.7% lecturers were allocated 2 students\n",
      "22.2% lecturers were allocated 3 students\n",
      "74.1% lecturers were allocated 4 students\n"
     ]
    }
   ],
   "source": [
    "topics_aggregate = np.zeros(num_topics,dtype=np.uint8)\n",
    "    \n",
    "for i in students:\n",
    "    topics_aggregate = np.bitwise_or(topics_aggregate, results[i])\n",
    "\n",
    "topics_aggregate = topics_aggregate.reshape(num_lecturers, topics_per_lecturer)\n",
    "\n",
    "summary_lecturers = np.zeros(max_students_per_lecturer+1)\n",
    "for l in lecturers:\n",
    "    students_per_lecturer = np.sum(topics_aggregate[l])\n",
    "    summary_lecturers[students_per_lecturer] += 1\n",
    "    \n",
    "print(\"Out of {} lecturers...\".format(num_lecturers))\n",
    "for i in range(max_students_per_lecturer+1):\n",
    "    perc = str(round(summary_lecturers[i]/num_lecturers*100,1))\n",
    "    print(\"{}% lecturers were allocated {} students\".format(perc, i))"
   ]
  },
  {
   "cell_type": "code",
   "execution_count": null,
   "metadata": {},
   "outputs": [],
   "source": []
  }
 ],
 "metadata": {
  "kernelspec": {
   "display_name": "Python 3",
   "language": "python",
   "name": "python3"
  },
  "language_info": {
   "codemirror_mode": {
    "name": "ipython",
    "version": 3
   },
   "file_extension": ".py",
   "mimetype": "text/x-python",
   "name": "python",
   "nbconvert_exporter": "python",
   "pygments_lexer": "ipython3",
   "version": "3.8.3"
  }
 },
 "nbformat": 4,
 "nbformat_minor": 4
}
